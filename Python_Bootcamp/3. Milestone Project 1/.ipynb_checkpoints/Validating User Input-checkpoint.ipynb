{
 "cells": [
  {
   "cell_type": "code",
   "execution_count": 1,
   "metadata": {},
   "outputs": [],
   "source": [
    "def display(row1,row2,row3):\n",
    "    print(row1)\n",
    "    print(row2)\n",
    "    print(row3)"
   ]
  },
  {
   "cell_type": "code",
   "execution_count": 2,
   "metadata": {},
   "outputs": [],
   "source": [
    "row1 = [' ', ' ', ' ']\n",
    "row2 = [' ', ' ', ' ']\n",
    "row3 = [' ', ' ', ' ']"
   ]
  },
  {
   "cell_type": "code",
   "execution_count": 3,
   "metadata": {},
   "outputs": [
    {
     "name": "stdout",
     "output_type": "stream",
     "text": [
      "[' ', ' ', ' ']\n",
      "[' ', ' ', ' ']\n",
      "[' ', ' ', ' ']\n"
     ]
    }
   ],
   "source": [
    "display(row1,row2,row3)"
   ]
  },
  {
   "cell_type": "code",
   "execution_count": 20,
   "metadata": {},
   "outputs": [],
   "source": [
    "def user_choice():\n",
    "    \n",
    "    # Variables\n",
    "    \n",
    "    # Initial\n",
    "    choice = 'WRONG'\n",
    "    acceptable_range = range(0,10)\n",
    "    within_range = False\n",
    "    \n",
    "    # Two conditions to check\n",
    "    # Digit or within_range is false\n",
    "    \n",
    "    while choice.isdigit() == False or within_range == False:\n",
    "        choice = input('Please enter a number (0-10): ')\n",
    "        \n",
    "        # Digit Check\n",
    "        if choice.isdigit() == False:\n",
    "            print('Sorry that is not a digit')\n",
    "        # Range Check\n",
    "        if choice.isdigit() == True:\n",
    "            if int(choice) in acceptable_range:\n",
    "                within_range = True\n",
    "            else:\n",
    "                within_range = False\n",
    "                #print('Choice out of range')\n",
    "    \n",
    "    return int(choice)"
   ]
  },
  {
   "cell_type": "code",
   "execution_count": null,
   "metadata": {},
   "outputs": [],
   "source": []
  },
  {
   "cell_type": "code",
   "execution_count": null,
   "metadata": {},
   "outputs": [],
   "source": [
    "some_value = '100'"
   ]
  },
  {
   "cell_type": "code",
   "execution_count": 5,
   "metadata": {},
   "outputs": [
    {
     "data": {
      "text/plain": [
       "True"
      ]
     },
     "execution_count": 5,
     "metadata": {},
     "output_type": "execute_result"
    }
   ],
   "source": [
    "some_value.isalnum()"
   ]
  },
  {
   "cell_type": "code",
   "execution_count": 6,
   "metadata": {},
   "outputs": [
    {
     "data": {
      "text/plain": [
       "100"
      ]
     },
     "execution_count": 6,
     "metadata": {},
     "output_type": "execute_result"
    }
   ],
   "source": [
    "int(some_value)"
   ]
  },
  {
   "cell_type": "code",
   "execution_count": 13,
   "metadata": {},
   "outputs": [],
   "source": [
    "result  = 'WRONG VALUE'"
   ]
  },
  {
   "cell_type": "code",
   "execution_count": 14,
   "metadata": {},
   "outputs": [],
   "source": [
    "acceptable_values = [0, 1, 2]"
   ]
  },
  {
   "cell_type": "code",
   "execution_count": 15,
   "metadata": {},
   "outputs": [
    {
     "data": {
      "text/plain": [
       "False"
      ]
     },
     "execution_count": 15,
     "metadata": {},
     "output_type": "execute_result"
    }
   ],
   "source": [
    "result in acceptable_values"
   ]
  },
  {
   "cell_type": "code",
   "execution_count": 16,
   "metadata": {},
   "outputs": [
    {
     "data": {
      "text/plain": [
       "True"
      ]
     },
     "execution_count": 16,
     "metadata": {},
     "output_type": "execute_result"
    }
   ],
   "source": [
    "result not in acceptable_values"
   ]
  },
  {
   "cell_type": "code",
   "execution_count": null,
   "metadata": {},
   "outputs": [],
   "source": []
  }
 ],
 "metadata": {
  "kernelspec": {
   "display_name": "Python 3",
   "language": "python",
   "name": "python3"
  },
  "language_info": {
   "codemirror_mode": {
    "name": "ipython",
    "version": 3
   },
   "file_extension": ".py",
   "mimetype": "text/x-python",
   "name": "python",
   "nbconvert_exporter": "python",
   "pygments_lexer": "ipython3",
   "version": "3.8.3"
  }
 },
 "nbformat": 4,
 "nbformat_minor": 4
}
