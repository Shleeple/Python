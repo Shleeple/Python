{
 "cells": [
  {
   "cell_type": "markdown",
   "id": "0be7537b",
   "metadata": {},
   "source": [
    "This idea of scope in your code is very important to understand in order to properly assign and call variable names.\n",
    "\n",
    "In simple terms, the idea of scope can be described by 3 general rules:\n",
    "\n",
    "1. Name assignments will create or change local names by default.\n",
    "2. Name references search (at most) four scopes, these are:\n",
    "    - local\n",
    "    - enclosing functions\n",
    "    - global\n",
    "    - built-in\n",
    "3. Names declared in global and nonlocal statements map assigned names to enclosing module and function scopes.\n",
    "\n",
    "The statement in #2 above can be defined by the LEGB rule.\n",
    "\n",
    "LEGB Rule:\n",
    "\n",
    "L: Local — Names assigned in any way within a function (def or lambda), and not declared global in that function.\n",
    "\n",
    "E: Enclosing function locals — Names in the local scope of any and all enclosing functions (def or lambda), from inner to outer.\n",
    "\n",
    "G: Global (module) — Names assigned at the top-level of a module file, or declared global in a def within the file.\n",
    "\n",
    "B: Built-in (Python) — Names preassigned in the built-in names module : open, range, SyntaxError,..."
   ]
  },
  {
   "cell_type": "markdown",
   "id": "077e2b7a",
   "metadata": {},
   "source": [
    "## For example, see what string python interprets as name, depending on the scope it's declared in, see which ones are comented out as it goes further down"
   ]
  },
  {
   "cell_type": "code",
   "execution_count": 3,
   "id": "8028087e",
   "metadata": {},
   "outputs": [
    {
     "name": "stdout",
     "output_type": "stream",
     "text": [
      "Local String\n"
     ]
    }
   ],
   "source": [
    "string = 'Global String'\n",
    "\n",
    "def nesting_check():\n",
    "    string = 'Enclosed Local String'\n",
    "    \n",
    "    def check():\n",
    "        string = 'Local String'\n",
    "        print(string)\n",
    "    \n",
    "    check()\n",
    "\n",
    "    \n",
    "nesting_check()"
   ]
  },
  {
   "cell_type": "code",
   "execution_count": 5,
   "id": "a7ecf5b7",
   "metadata": {},
   "outputs": [
    {
     "name": "stdout",
     "output_type": "stream",
     "text": [
      "Enclosed Local String\n"
     ]
    }
   ],
   "source": [
    "string = 'Global String'\n",
    "\n",
    "def nesting_check():\n",
    "    string = 'Enclosed Local String'\n",
    "    \n",
    "    def check():\n",
    "        # string = 'Local String'\n",
    "        print(string)\n",
    "    \n",
    "    check()\n",
    "\n",
    "    \n",
    "nesting_check()"
   ]
  },
  {
   "cell_type": "code",
   "execution_count": 6,
   "id": "b372ea1a",
   "metadata": {},
   "outputs": [
    {
     "name": "stdout",
     "output_type": "stream",
     "text": [
      "Global String\n"
     ]
    }
   ],
   "source": [
    "string = 'Global String'\n",
    "\n",
    "def nesting_check():\n",
    "    # string = 'Enclosed Local String'\n",
    "    \n",
    "    def check():\n",
    "        # string = 'Local String'\n",
    "        print(string)\n",
    "    \n",
    "    check()\n",
    "\n",
    "    \n",
    "nesting_check()"
   ]
  },
  {
   "cell_type": "code",
   "execution_count": null,
   "id": "a7d4cc04",
   "metadata": {},
   "outputs": [],
   "source": []
  },
  {
   "cell_type": "markdown",
   "id": "ea5f58d0",
   "metadata": {},
   "source": [
    "### If you have a variable, and then reassign it within a function, it only stays reassigned inside that function, it doesnt not change it globally."
   ]
  },
  {
   "cell_type": "code",
   "execution_count": 7,
   "id": "1ac27ef8",
   "metadata": {},
   "outputs": [],
   "source": [
    "x = 50\n",
    "\n",
    "def func(x):\n",
    "    print(f'X is {x}')\n",
    "    \n",
    "    # LOCAL REASSIGNMENT\n",
    "    x = 200\n",
    "    print(f'I JUST LOCALLY REASSIGNED X TO {x}')"
   ]
  },
  {
   "cell_type": "code",
   "execution_count": 8,
   "id": "c5c57525",
   "metadata": {},
   "outputs": [
    {
     "name": "stdout",
     "output_type": "stream",
     "text": [
      "X is 50\n",
      "I JUST LOCALLY REASSIGNED X TO 200\n"
     ]
    }
   ],
   "source": [
    "func(x)"
   ]
  },
  {
   "cell_type": "markdown",
   "id": "4a884c10",
   "metadata": {},
   "source": [
    "### But if you print x, you see that it stayed the same, because it was only reassigned locally"
   ]
  },
  {
   "cell_type": "code",
   "execution_count": 9,
   "id": "f41d60d8",
   "metadata": {
    "scrolled": false
   },
   "outputs": [
    {
     "name": "stdout",
     "output_type": "stream",
     "text": [
      "50\n"
     ]
    }
   ],
   "source": [
    "print(x)"
   ]
  },
  {
   "cell_type": "markdown",
   "id": "ef3f5260",
   "metadata": {},
   "source": [
    "## If you want to change the variable at a global level, you dont pass it in as a function parameter, and declare it with the keyword global"
   ]
  },
  {
   "cell_type": "code",
   "execution_count": 14,
   "id": "080af8db",
   "metadata": {},
   "outputs": [],
   "source": [
    "x = 50\n",
    "\n",
    "def func():\n",
    "    global x\n",
    "    print(f'X is {x}')\n",
    "    \n",
    "    # LOCAL REASSIGNMENT ON A GLOBAL VARIABLE\n",
    "    x = 'New Value'\n",
    "    print(f'I JUST REASSIGNED X TO {x}')"
   ]
  },
  {
   "cell_type": "code",
   "execution_count": 15,
   "id": "7895cb0f",
   "metadata": {},
   "outputs": [
    {
     "name": "stdout",
     "output_type": "stream",
     "text": [
      "X is 50\n",
      "I JUST REASSIGNED X TO New Value\n"
     ]
    }
   ],
   "source": [
    "func()"
   ]
  },
  {
   "cell_type": "markdown",
   "id": "79310e0a",
   "metadata": {},
   "source": [
    "### As you can see, now x gets reassigned globally, not just locally"
   ]
  },
  {
   "cell_type": "code",
   "execution_count": 16,
   "id": "128485ef",
   "metadata": {},
   "outputs": [
    {
     "name": "stdout",
     "output_type": "stream",
     "text": [
      "New Value\n"
     ]
    }
   ],
   "source": [
    "print(x)"
   ]
  },
  {
   "cell_type": "code",
   "execution_count": null,
   "id": "cb23f5b4",
   "metadata": {},
   "outputs": [],
   "source": []
  }
 ],
 "metadata": {
  "kernelspec": {
   "display_name": "Python 3 (ipykernel)",
   "language": "python",
   "name": "python3"
  },
  "language_info": {
   "codemirror_mode": {
    "name": "ipython",
    "version": 3
   },
   "file_extension": ".py",
   "mimetype": "text/x-python",
   "name": "python",
   "nbconvert_exporter": "python",
   "pygments_lexer": "ipython3",
   "version": "3.10.1"
  }
 },
 "nbformat": 4,
 "nbformat_minor": 5
}
