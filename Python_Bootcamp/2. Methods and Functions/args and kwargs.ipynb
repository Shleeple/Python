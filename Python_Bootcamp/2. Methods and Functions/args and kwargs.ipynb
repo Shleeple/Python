{
 "cells": [
  {
   "cell_type": "markdown",
   "id": "b7d53dc2",
   "metadata": {},
   "source": [
    "## args and kwargs\n",
    "### stand for arguments and key word arguments"
   ]
  },
  {
   "cell_type": "code",
   "execution_count": 5,
   "id": "10bed953",
   "metadata": {},
   "outputs": [
    {
     "data": {
      "text/plain": [
       "30"
      ]
     },
     "execution_count": 5,
     "metadata": {},
     "output_type": "execute_result"
    }
   ],
   "source": [
    "def return_(a,b):\n",
    "    return sum(a,b)\n",
    "\n",
    "return_sum(10,20)"
   ]
  },
  {
   "cell_type": "markdown",
   "id": "ec973541",
   "metadata": {},
   "source": [
    "\n",
    "### No problem here, but if the person passes more arguments, then a problem comes up"
   ]
  },
  {
   "cell_type": "code",
   "execution_count": 6,
   "id": "935f2b87",
   "metadata": {},
   "outputs": [
    {
     "ename": "TypeError",
     "evalue": "return_sum() takes 2 positional arguments but 3 were given",
     "output_type": "error",
     "traceback": [
      "\u001b[1;31m---------------------------------------------------------------------------\u001b[0m",
      "\u001b[1;31mTypeError\u001b[0m                                 Traceback (most recent call last)",
      "\u001b[1;32m~\\AppData\\Local\\Temp/ipykernel_14300/1705872976.py\u001b[0m in \u001b[0;36m<module>\u001b[1;34m\u001b[0m\n\u001b[1;32m----> 1\u001b[1;33m \u001b[0mreturn_sum\u001b[0m\u001b[1;33m(\u001b[0m\u001b[1;36m10\u001b[0m\u001b[1;33m,\u001b[0m\u001b[1;36m20\u001b[0m\u001b[1;33m,\u001b[0m\u001b[1;36m30\u001b[0m\u001b[1;33m)\u001b[0m\u001b[1;33m\u001b[0m\u001b[1;33m\u001b[0m\u001b[0m\n\u001b[0m",
      "\u001b[1;31mTypeError\u001b[0m: return_sum() takes 2 positional arguments but 3 were given"
     ]
    }
   ],
   "source": [
    "return_sum(10,20,30)"
   ]
  },
  {
   "cell_type": "markdown",
   "id": "067bdb78",
   "metadata": {},
   "source": [
    "### So we can use *args as an argument, and it allows the user to input as many arguments as they want, where we can use args as a tuple of parameters coming in"
   ]
  },
  {
   "cell_type": "code",
   "execution_count": 8,
   "id": "7625083d",
   "metadata": {},
   "outputs": [
    {
     "name": "stdout",
     "output_type": "stream",
     "text": [
      "(10, 20)\n"
     ]
    },
    {
     "data": {
      "text/plain": [
       "30"
      ]
     },
     "execution_count": 8,
     "metadata": {},
     "output_type": "execute_result"
    }
   ],
   "source": [
    "def myfunc(*args):\n",
    "    print(args) # to see that args is a tuple\n",
    "    return sum(args)\n",
    "\n",
    "myfunc(10, 20)"
   ]
  },
  {
   "cell_type": "code",
   "execution_count": 10,
   "id": "5aceca36",
   "metadata": {},
   "outputs": [
    {
     "name": "stdout",
     "output_type": "stream",
     "text": [
      "(10, 20, 30)\n"
     ]
    },
    {
     "data": {
      "text/plain": [
       "60"
      ]
     },
     "execution_count": 10,
     "metadata": {},
     "output_type": "execute_result"
    }
   ],
   "source": [
    "myfunc(10, 20, 30)"
   ]
  },
  {
   "cell_type": "code",
   "execution_count": 11,
   "id": "1fb83a6e",
   "metadata": {},
   "outputs": [
    {
     "name": "stdout",
     "output_type": "stream",
     "text": [
      "(10, 20, 30, 40)\n"
     ]
    },
    {
     "data": {
      "text/plain": [
       "100"
      ]
     },
     "execution_count": 11,
     "metadata": {},
     "output_type": "execute_result"
    }
   ],
   "source": [
    "myfunc(10, 20, 30, 40)"
   ]
  },
  {
   "cell_type": "markdown",
   "id": "b8319e95",
   "metadata": {},
   "source": [
    "## Useful to know that args saves as a tuple, so we can iterate through it, etc. Also good to know that we dont have to use *args, it can be *anything, and then use that anything inside the function"
   ]
  },
  {
   "cell_type": "code",
   "execution_count": 12,
   "id": "9de108a8",
   "metadata": {},
   "outputs": [],
   "source": [
    "def myfunc(*args):\n",
    "    for i in args:\n",
    "        print(i)"
   ]
  },
  {
   "cell_type": "code",
   "execution_count": 13,
   "id": "92b7d18a",
   "metadata": {},
   "outputs": [
    {
     "name": "stdout",
     "output_type": "stream",
     "text": [
      "10\n",
      "20\n",
      "30\n",
      "40\n"
     ]
    }
   ],
   "source": [
    "myfunc(10, 20, 30, 40)"
   ]
  },
  {
   "cell_type": "markdown",
   "id": "5207fa33",
   "metadata": {},
   "source": [
    "## Now for **kwargs"
   ]
  },
  {
   "cell_type": "code",
   "execution_count": 23,
   "id": "4e0b2e9c",
   "metadata": {},
   "outputs": [],
   "source": [
    "def find_fruit(**kwargs):\n",
    "    if 'fruit' in kwargs:\n",
    "        print(kwargs) # as opposed to args that saves as a tuple, kwargs saves as a dictionary\n",
    "        print('My fruit of choise is {}'.format(kwargs['fruit']))\n",
    "    else:\n",
    "        print(\"I did not find any fruit here\")"
   ]
  },
  {
   "cell_type": "markdown",
   "id": "6794fb5b",
   "metadata": {},
   "source": [
    "### We can see here that kwargs saves as a dictionary, but you have to pass in the keys and the values"
   ]
  },
  {
   "cell_type": "code",
   "execution_count": 24,
   "id": "78c379da",
   "metadata": {},
   "outputs": [
    {
     "name": "stdout",
     "output_type": "stream",
     "text": [
      "{'fruit': 'apple', 'veggie': 'lettuce'}\n",
      "My fruit of choise is apple\n"
     ]
    }
   ],
   "source": [
    "find_fruit(fruit = 'apple', veggie = 'lettuce')"
   ]
  },
  {
   "cell_type": "code",
   "execution_count": 25,
   "id": "259a9da4",
   "metadata": {},
   "outputs": [
    {
     "name": "stdout",
     "output_type": "stream",
     "text": [
      "I did not find any fruit here\n"
     ]
    }
   ],
   "source": [
    "find_fruit(veggie = 'lettuce')"
   ]
  },
  {
   "cell_type": "markdown",
   "id": "72dcb579",
   "metadata": {},
   "source": [
    "## Now using args and kwargs combined"
   ]
  },
  {
   "cell_type": "code",
   "execution_count": 37,
   "id": "f8f30b91",
   "metadata": {},
   "outputs": [],
   "source": [
    "def myfunc(*args, **kwargs):\n",
    "    print(args)\n",
    "    print(kwargs)\n",
    "    print()\n",
    "    print('I would like {} {}'.format(args[0], kwargs['food']))"
   ]
  },
  {
   "cell_type": "code",
   "execution_count": 38,
   "id": "dbd65112",
   "metadata": {},
   "outputs": [
    {
     "name": "stdout",
     "output_type": "stream",
     "text": [
      "(10, 20, 30)\n",
      "{'fruit': 'apple', 'food': 'burgers', 'animals': 'dogs'}\n",
      "\n",
      "I would like 10 burgers\n"
     ]
    }
   ],
   "source": [
    "myfunc(10, 20, 30, fruit = 'apple', food = 'burgers', animals = 'dogs')"
   ]
  }
 ],
 "metadata": {
  "kernelspec": {
   "display_name": "Python 3 (ipykernel)",
   "language": "python",
   "name": "python3"
  },
  "language_info": {
   "codemirror_mode": {
    "name": "ipython",
    "version": 3
   },
   "file_extension": ".py",
   "mimetype": "text/x-python",
   "name": "python",
   "nbconvert_exporter": "python",
   "pygments_lexer": "ipython3",
   "version": "3.10.1"
  }
 },
 "nbformat": 4,
 "nbformat_minor": 5
}
