{
 "cells": [
  {
   "cell_type": "code",
   "execution_count": 2,
   "id": "de46d170",
   "metadata": {},
   "outputs": [],
   "source": [
    "def square(num):\n",
    "    return num**2"
   ]
  },
  {
   "cell_type": "code",
   "execution_count": 3,
   "id": "8a825bac",
   "metadata": {},
   "outputs": [],
   "source": [
    "my_nums = [1,2,3,4,5,6]"
   ]
  },
  {
   "cell_type": "markdown",
   "id": "3c60143f",
   "metadata": {},
   "source": [
    "### The map function lets you run a function through every item in an iteratable object"
   ]
  },
  {
   "cell_type": "code",
   "execution_count": 5,
   "id": "48f790dc",
   "metadata": {
    "scrolled": true
   },
   "outputs": [
    {
     "name": "stdout",
     "output_type": "stream",
     "text": [
      "1\n",
      "4\n",
      "9\n",
      "16\n",
      "25\n",
      "36\n"
     ]
    }
   ],
   "source": [
    "for item in map(square, my_nums):\n",
    "    print(item)"
   ]
  },
  {
   "cell_type": "markdown",
   "id": "4bb5cb58",
   "metadata": {},
   "source": [
    "### You can also list it to get back a list with all the items returned"
   ]
  },
  {
   "cell_type": "code",
   "execution_count": 10,
   "id": "0e02f8eb",
   "metadata": {},
   "outputs": [
    {
     "data": {
      "text/plain": [
       "[1, 4, 9, 16, 25, 36]"
      ]
     },
     "execution_count": 10,
     "metadata": {},
     "output_type": "execute_result"
    }
   ],
   "source": [
    "list(map(square, my_nums))"
   ]
  },
  {
   "cell_type": "code",
   "execution_count": 11,
   "id": "5a836959",
   "metadata": {},
   "outputs": [],
   "source": [
    "def splicer(mystring):\n",
    "    if len(mystring) % 2 == 0:\n",
    "        return \"EVEN\"\n",
    "    else:\n",
    "        return mystring[0]"
   ]
  },
  {
   "cell_type": "code",
   "execution_count": 12,
   "id": "9087716f",
   "metadata": {},
   "outputs": [
    {
     "data": {
      "text/plain": [
       "'EVEN'"
      ]
     },
     "execution_count": 12,
     "metadata": {},
     "output_type": "execute_result"
    }
   ],
   "source": [
    "splicer('Hey, how you doing')"
   ]
  },
  {
   "cell_type": "code",
   "execution_count": 13,
   "id": "f630b7c4",
   "metadata": {},
   "outputs": [
    {
     "data": {
      "text/plain": [
       "'H'"
      ]
     },
     "execution_count": 13,
     "metadata": {},
     "output_type": "execute_result"
    }
   ],
   "source": [
    "splicer('Hey')"
   ]
  },
  {
   "cell_type": "code",
   "execution_count": 14,
   "id": "0d887645",
   "metadata": {},
   "outputs": [],
   "source": [
    "names = ['Juan', 'Matthew']"
   ]
  },
  {
   "cell_type": "code",
   "execution_count": 15,
   "id": "4a3672a2",
   "metadata": {},
   "outputs": [
    {
     "data": {
      "text/plain": [
       "['EVEN', 'M']"
      ]
     },
     "execution_count": 15,
     "metadata": {},
     "output_type": "execute_result"
    }
   ],
   "source": [
    "list(map(splicer, names))"
   ]
  },
  {
   "cell_type": "code",
   "execution_count": null,
   "id": "d382d3b5",
   "metadata": {},
   "outputs": [],
   "source": []
  },
  {
   "cell_type": "markdown",
   "id": "7aab4717",
   "metadata": {},
   "source": [
    "### The filter function will also run a function through an iterable object, and will return those where the function returned True, but this does mean that you have to pass it a function that returns True or False"
   ]
  },
  {
   "cell_type": "code",
   "execution_count": 35,
   "id": "099226f1",
   "metadata": {},
   "outputs": [],
   "source": [
    "def check_even(n):\n",
    "    return n%2 == 0"
   ]
  },
  {
   "cell_type": "code",
   "execution_count": 36,
   "id": "d5e1c895",
   "metadata": {},
   "outputs": [
    {
     "data": {
      "text/plain": [
       "[2, 4, 6]"
      ]
     },
     "execution_count": 36,
     "metadata": {},
     "output_type": "execute_result"
    }
   ],
   "source": [
    "numbers = [1,2,3,4,5,6,7]\n",
    "list(filter(check_even, numbers))"
   ]
  },
  {
   "cell_type": "code",
   "execution_count": 37,
   "id": "c78b688a",
   "metadata": {},
   "outputs": [
    {
     "name": "stdout",
     "output_type": "stream",
     "text": [
      "2\n",
      "4\n",
      "6\n"
     ]
    }
   ],
   "source": [
    "for i in filter(check_even, numbers):\n",
    "    print(i)"
   ]
  },
  {
   "cell_type": "markdown",
   "id": "3026369a",
   "metadata": {},
   "source": [
    "### As seen above, same as with map, you can list what the filter function returns, or you can also iterate through it, otherwise, it just returns a place in memory, for example:"
   ]
  },
  {
   "cell_type": "code",
   "execution_count": 20,
   "id": "3aa918aa",
   "metadata": {},
   "outputs": [
    {
     "data": {
      "text/plain": [
       "<filter at 0x25952f60730>"
      ]
     },
     "execution_count": 20,
     "metadata": {},
     "output_type": "execute_result"
    }
   ],
   "source": [
    "filter(check_even, numbers)"
   ]
  },
  {
   "cell_type": "code",
   "execution_count": null,
   "id": "7e367ec7",
   "metadata": {},
   "outputs": [],
   "source": []
  },
  {
   "cell_type": "markdown",
   "id": "9d91f8bd",
   "metadata": {},
   "source": [
    "### Lambda Expressions are functions that you usually don't name or reuse, so they're also called anonymous functions"
   ]
  },
  {
   "cell_type": "code",
   "execution_count": 21,
   "id": "505f26dc",
   "metadata": {},
   "outputs": [
    {
     "data": {
      "text/plain": [
       "25"
      ]
     },
     "execution_count": 21,
     "metadata": {},
     "output_type": "execute_result"
    }
   ],
   "source": [
    "def square(n):\n",
    "    return n**2\n",
    "\n",
    "square(5)"
   ]
  },
  {
   "cell_type": "code",
   "execution_count": 22,
   "id": "40eb0e02",
   "metadata": {},
   "outputs": [
    {
     "data": {
      "text/plain": [
       "25"
      ]
     },
     "execution_count": 22,
     "metadata": {},
     "output_type": "execute_result"
    }
   ],
   "source": [
    "def square(n): return n**2\n",
    "\n",
    "square(5)"
   ]
  },
  {
   "cell_type": "code",
   "execution_count": 27,
   "id": "2a785d7a",
   "metadata": {},
   "outputs": [
    {
     "data": {
      "text/plain": [
       "25"
      ]
     },
     "execution_count": 27,
     "metadata": {},
     "output_type": "execute_result"
    }
   ],
   "source": [
    "# This is the way to reduce a def into a lambda function, which can be asigned to a variable, \n",
    "# and then execute that variable as a function\n",
    "lambda n: n**2\n",
    "square = lambda n: n**2\n",
    "\n",
    "square(5)"
   ]
  },
  {
   "cell_type": "markdown",
   "id": "4ed318ac",
   "metadata": {},
   "source": [
    "### Lambda functions are usually used in conjunction with map and filter to simplify passing a function"
   ]
  },
  {
   "cell_type": "code",
   "execution_count": 30,
   "id": "b1cd034e",
   "metadata": {},
   "outputs": [
    {
     "data": {
      "text/plain": [
       "[1, 4, 9, 16, 25, 36]"
      ]
     },
     "execution_count": 30,
     "metadata": {},
     "output_type": "execute_result"
    }
   ],
   "source": [
    "numbers = [1, 2, 3, 4, 5, 6]\n",
    "list(map(lambda n: n**2, numbers))"
   ]
  },
  {
   "cell_type": "code",
   "execution_count": 38,
   "id": "ed301158",
   "metadata": {
    "scrolled": true
   },
   "outputs": [],
   "source": [
    "# Turning function into lambda expression\n",
    "def check_even(n):\n",
    "    return n%2 == 0"
   ]
  },
  {
   "cell_type": "code",
   "execution_count": 44,
   "id": "60402b2e",
   "metadata": {},
   "outputs": [
    {
     "data": {
      "text/plain": [
       "<function __main__.<lambda>(n)>"
      ]
     },
     "execution_count": 44,
     "metadata": {},
     "output_type": "execute_result"
    }
   ],
   "source": [
    "lambda n: n%2 == 0"
   ]
  },
  {
   "cell_type": "code",
   "execution_count": 45,
   "id": "27311dfd",
   "metadata": {},
   "outputs": [
    {
     "data": {
      "text/plain": [
       "[2, 4, 6]"
      ]
     },
     "execution_count": 45,
     "metadata": {},
     "output_type": "execute_result"
    }
   ],
   "source": [
    "list(filter(lambda n: n%2 == 0, numbers))"
   ]
  },
  {
   "cell_type": "markdown",
   "id": "4c0f880e",
   "metadata": {},
   "source": [
    "### Lambda expression that grabs first character of a string"
   ]
  },
  {
   "cell_type": "code",
   "execution_count": 49,
   "id": "3131b3e5",
   "metadata": {},
   "outputs": [
    {
     "data": {
      "text/plain": [
       "<function __main__.<lambda>(string)>"
      ]
     },
     "execution_count": 49,
     "metadata": {},
     "output_type": "execute_result"
    }
   ],
   "source": [
    "lambda string: string[0].pop()"
   ]
  },
  {
   "cell_type": "code",
   "execution_count": 53,
   "id": "656ba182",
   "metadata": {},
   "outputs": [
    {
     "data": {
      "text/plain": [
       "['H', 'N', 'B', 'B']"
      ]
     },
     "execution_count": 53,
     "metadata": {},
     "output_type": "execute_result"
    }
   ],
   "source": [
    "string_list = ['Hey', 'Nice', 'Bye', 'Bad']\n",
    "list(map(lambda string: string[0], string_list))"
   ]
  },
  {
   "cell_type": "markdown",
   "id": "44a96861",
   "metadata": {},
   "source": [
    "### Lambda function to reverse strings"
   ]
  },
  {
   "cell_type": "code",
   "execution_count": 55,
   "id": "b8ca8d7c",
   "metadata": {},
   "outputs": [
    {
     "ename": "SyntaxError",
     "evalue": "'(' was never closed (Temp/ipykernel_8500/3959891836.py, line 1)",
     "output_type": "error",
     "traceback": [
      "\u001b[1;36m  File \u001b[1;32m\"C:\\Users\\juanj\\AppData\\Local\\Temp/ipykernel_8500/3959891836.py\"\u001b[1;36m, line \u001b[1;32m1\u001b[0m\n\u001b[1;33m    list(map(lambda string: string[::-1], string_list)\u001b[0m\n\u001b[1;37m        ^\u001b[0m\n\u001b[1;31mSyntaxError\u001b[0m\u001b[1;31m:\u001b[0m '(' was never closed\n"
     ]
    }
   ],
   "source": [
    "list(map(lambda string: string[::-1], string_list)"
   ]
  },
  {
   "cell_type": "code",
   "execution_count": null,
   "id": "25dd0da0",
   "metadata": {},
   "outputs": [],
   "source": []
  }
 ],
 "metadata": {
  "kernelspec": {
   "display_name": "Python 3 (ipykernel)",
   "language": "python",
   "name": "python3"
  },
  "language_info": {
   "codemirror_mode": {
    "name": "ipython",
    "version": 3
   },
   "file_extension": ".py",
   "mimetype": "text/x-python",
   "name": "python",
   "nbconvert_exporter": "python",
   "pygments_lexer": "ipython3",
   "version": "3.10.1"
  }
 },
 "nbformat": 4,
 "nbformat_minor": 5
}
