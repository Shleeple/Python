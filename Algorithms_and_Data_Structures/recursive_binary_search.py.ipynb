{
 "cells": [
  {
   "cell_type": "markdown",
   "id": "02f11611",
   "metadata": {},
   "source": [
    "def binary_search(lst, target):\n",
    "    start = 0\n",
    "    end = len(lst)-1\n",
    "    while start<=end:\n",
    "        midpoint = (start+end)//2\n",
    "        if lst[midpoint] == target:\n",
    "            return midpoint\n",
    "        elif lst[midpoint] < target:\n",
    "            start = midpoint + 1\n",
    "        else:\n",
    "            end = midpoint - 1\n",
    "    return None\n",
    "\n",
    "def verify(index):\n",
    "    if index is not None:\n",
    "        print(f\"The target is at index: {index}\")\n",
    "    else:\n",
    "        print(\"Target not found in list\")"
   ]
  },
  {
   "cell_type": "code",
   "execution_count": null,
   "id": "d1475047",
   "metadata": {},
   "outputs": [],
   "source": []
  },
  {
   "cell_type": "code",
   "execution_count": null,
   "id": "9cf1afa7",
   "metadata": {},
   "outputs": [],
   "source": []
  },
  {
   "cell_type": "code",
   "execution_count": null,
   "id": "7d978c0c",
   "metadata": {},
   "outputs": [],
   "source": []
  },
  {
   "cell_type": "code",
   "execution_count": 9,
   "id": "01438afd",
   "metadata": {},
   "outputs": [],
   "source": [
    "def recursive_binary_search(list, target, start=0, end=None):\n",
    "    if end is None:\n",
    "        end = len(list) - 1\n",
    "    if start > end:\n",
    "        return -1\n",
    "\n",
    "    mid = (start + end) // 2\n",
    "\n",
    "    if target == list[mid]:\n",
    "        return mid\n",
    "    else:\n",
    "        if target < list[mid]:\n",
    "            return recursive_binary_search(list, target, start, mid-1)\n",
    "        else:\n",
    "            return recursive_binary_search(list, target, mid+1, end)"
   ]
  },
  {
   "cell_type": "code",
   "execution_count": 10,
   "id": "85c8bac0",
   "metadata": {},
   "outputs": [],
   "source": [
    "def verify(result):\n",
    "    return f\"Result Found: {result}\""
   ]
  },
  {
   "cell_type": "code",
   "execution_count": 11,
   "id": "9a575c06",
   "metadata": {},
   "outputs": [
    {
     "data": {
      "text/plain": [
       "[1, 2, 3, 4, 5, 6, 7, 8, 9]"
      ]
     },
     "execution_count": 11,
     "metadata": {},
     "output_type": "execute_result"
    }
   ],
   "source": [
    "lst = [1,2,3,4,9,8,7,6,5]\n",
    "sorted(lst)"
   ]
  },
  {
   "cell_type": "code",
   "execution_count": 12,
   "id": "0daf7ff1",
   "metadata": {},
   "outputs": [],
   "source": [
    "index = recursive_binary_search(sorted(lst), 6)\n",
    "index2 = recursive_binary_search(sorted(lst), 14)"
   ]
  },
  {
   "cell_type": "code",
   "execution_count": 14,
   "id": "d802124e",
   "metadata": {},
   "outputs": [
    {
     "data": {
      "text/plain": [
       "'Result Found: 5'"
      ]
     },
     "execution_count": 14,
     "metadata": {},
     "output_type": "execute_result"
    }
   ],
   "source": [
    "\n",
    "verify(index)"
   ]
  },
  {
   "cell_type": "code",
   "execution_count": null,
   "id": "6a342aac",
   "metadata": {},
   "outputs": [],
   "source": []
  },
  {
   "cell_type": "code",
   "execution_count": null,
   "id": "8f20b8ee",
   "metadata": {},
   "outputs": [],
   "source": []
  }
 ],
 "metadata": {
  "kernelspec": {
   "display_name": "Python 3 (ipykernel)",
   "language": "python",
   "name": "python3"
  },
  "language_info": {
   "codemirror_mode": {
    "name": "ipython",
    "version": 3
   },
   "file_extension": ".py",
   "mimetype": "text/x-python",
   "name": "python",
   "nbconvert_exporter": "python",
   "pygments_lexer": "ipython3",
   "version": "3.10.1"
  }
 },
 "nbformat": 4,
 "nbformat_minor": 5
}
