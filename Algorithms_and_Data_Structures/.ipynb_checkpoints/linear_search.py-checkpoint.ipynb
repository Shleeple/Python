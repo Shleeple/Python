{
 "cells": [
  {
   "cell_type": "code",
   "execution_count": 19,
   "id": "e1e3f054",
   "metadata": {},
   "outputs": [],
   "source": [
    "def linear_search(lst, target):\n",
    "    for index, value in enumerate(lst):\n",
    "        if value == target:\n",
    "            return index\n",
    "        \n",
    "    return None"
   ]
  },
  {
   "cell_type": "code",
   "execution_count": 20,
   "id": "b7ba1d92",
   "metadata": {},
   "outputs": [],
   "source": [
    "new_lst = [1,2,3,4,5,6]\n",
    "index = linear_search(new_lst, 9)\n",
    "index2 = linear_search(new_lst, 2)"
   ]
  },
  {
   "cell_type": "code",
   "execution_count": 23,
   "id": "2186d9a0",
   "metadata": {},
   "outputs": [],
   "source": [
    "def verify(index):\n",
    "    if index is not None:\n",
    "        print(f\"The target is at index: {index}\")\n",
    "    else:\n",
    "        print(\"Target not found in list\")"
   ]
  },
  {
   "cell_type": "code",
   "execution_count": 24,
   "id": "24fde039",
   "metadata": {},
   "outputs": [
    {
     "name": "stdout",
     "output_type": "stream",
     "text": [
      "Target not found in list\n",
      "The target is at index: 1\n"
     ]
    }
   ],
   "source": [
    "verify(index)\n",
    "verify(index2)"
   ]
  },
  {
   "cell_type": "code",
   "execution_count": null,
   "id": "6e63842a",
   "metadata": {},
   "outputs": [],
   "source": []
  }
 ],
 "metadata": {
  "kernelspec": {
   "display_name": "Python 3 (ipykernel)",
   "language": "python",
   "name": "python3"
  },
  "language_info": {
   "codemirror_mode": {
    "name": "ipython",
    "version": 3
   },
   "file_extension": ".py",
   "mimetype": "text/x-python",
   "name": "python",
   "nbconvert_exporter": "python",
   "pygments_lexer": "ipython3",
   "version": "3.10.1"
  }
 },
 "nbformat": 4,
 "nbformat_minor": 5
}
