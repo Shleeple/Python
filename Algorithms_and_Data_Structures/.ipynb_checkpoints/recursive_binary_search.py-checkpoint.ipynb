{
 "cells": [
  {
   "cell_type": "markdown",
   "id": "bf17ec08",
   "metadata": {},
   "source": [
    "def binary_search(lst, target):\n",
    "    start = 0\n",
    "    end = len(lst)-1\n",
    "    while start<=end:\n",
    "        midpoint = (start+end)//2\n",
    "        if lst[midpoint] == target:\n",
    "            return midpoint\n",
    "        elif lst[midpoint] < target:\n",
    "            start = midpoint + 1\n",
    "        else:\n",
    "            end = midpoint - 1\n",
    "    return None\n",
    "\n",
    "def verify(index):\n",
    "    if index is not None:\n",
    "        print(f\"The target is at index: {index}\")\n",
    "    else:\n",
    "        print(\"Target not found in list\")"
   ]
  },
  {
   "cell_type": "code",
   "execution_count": null,
   "id": "04acb51d",
   "metadata": {},
   "outputs": [],
   "source": []
  },
  {
   "cell_type": "code",
   "execution_count": null,
   "id": "e283111b",
   "metadata": {},
   "outputs": [],
   "source": []
  },
  {
   "cell_type": "code",
   "execution_count": null,
   "id": "c96fea4b",
   "metadata": {},
   "outputs": [],
   "source": []
  },
  {
   "cell_type": "code",
   "execution_count": 1,
   "id": "c24ea9ac",
   "metadata": {},
   "outputs": [],
   "source": [
    "def recursive_binary_search(lst, target, start = 0, end = None):\n",
    "    if end is None:\n",
    "        end = len(lst)-1\n",
    "    if start > end:\n",
    "        return -1\n",
    "\n",
    "    midpoint = (start+end)//2\n",
    "    \n",
    "    if lst[midpoint] == target:\n",
    "        return midpoint\n",
    "    else:\n",
    "        if lst[midpoint] < target:\n",
    "            return recursive_binary_search(lst, target, start, midpoint-1)\n",
    "        else:\n",
    "            return recursive_binary_search(lst, target, midpoint+1, end)"
   ]
  },
  {
   "cell_type": "code",
   "execution_count": null,
   "id": "9f6a58d2",
   "metadata": {},
   "outputs": [],
   "source": [
    "def verify(result):\n",
    "    return f\"Result Found: {result}\""
   ]
  },
  {
   "cell_type": "code",
   "execution_count": 2,
   "id": "6b428742",
   "metadata": {},
   "outputs": [
    {
     "data": {
      "text/plain": [
       "[1, 2, 3, 4, 5, 6, 7, 8, 9]"
      ]
     },
     "execution_count": 2,
     "metadata": {},
     "output_type": "execute_result"
    }
   ],
   "source": [
    "lst = [1,2,3,4,9,8,7,6,5]\n",
    "sorted(lst)"
   ]
  },
  {
   "cell_type": "code",
   "execution_count": 3,
   "id": "802dd922",
   "metadata": {},
   "outputs": [],
   "source": [
    "index = recursive_binary_search(sorted(lst), 6)\n",
    "index2 = recursive_binary_search(sorted(lst), 14)"
   ]
  },
  {
   "cell_type": "code",
   "execution_count": null,
   "id": "adfa9b6b",
   "metadata": {},
   "outputs": [],
   "source": []
  },
  {
   "cell_type": "code",
   "execution_count": null,
   "id": "177fc5dc",
   "metadata": {},
   "outputs": [],
   "source": []
  },
  {
   "cell_type": "code",
   "execution_count": null,
   "id": "ff29272d",
   "metadata": {},
   "outputs": [],
   "source": []
  }
 ],
 "metadata": {
  "kernelspec": {
   "display_name": "Python 3 (ipykernel)",
   "language": "python",
   "name": "python3"
  },
  "language_info": {
   "codemirror_mode": {
    "name": "ipython",
    "version": 3
   },
   "file_extension": ".py",
   "mimetype": "text/x-python",
   "name": "python",
   "nbconvert_exporter": "python",
   "pygments_lexer": "ipython3",
   "version": "3.10.1"
  }
 },
 "nbformat": 4,
 "nbformat_minor": 5
}
