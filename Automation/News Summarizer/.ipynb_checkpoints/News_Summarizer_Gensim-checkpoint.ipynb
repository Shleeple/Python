{
 "cells": [
  {
   "cell_type": "code",
   "execution_count": 4,
   "id": "c80b2cf0",
   "metadata": {},
   "outputs": [],
   "source": [
    "from bs4 import BeautifulSoup\n",
    "import requests"
   ]
  },
  {
   "cell_type": "markdown",
   "id": "9a6a1355",
   "metadata": {},
   "source": [
    "## Creating a Function to Extract only Text from < p > tags"
   ]
  },
  {
   "cell_type": "code",
   "execution_count": 12,
   "id": "9289efc4",
   "metadata": {},
   "outputs": [],
   "source": [
    "def get_only_text(url):\n",
    "    \"\"\"\n",
    "    return the title and the text of the article ar the specified url\n",
    "    \"\"\"\n",
    "    \n",
    "    page = requests.get(url)\n",
    "    soup = BeautifulSoup(page.content, \"html.parser\")\n",
    "    text = ' '.join(map(lambda p: p.text, soup.find_all('p')))\n",
    "    title = ' '.join(soup.title.stripped_strings)\n",
    "    return title, text"
   ]
  },
  {
   "cell_type": "markdown",
   "id": "35cbe200",
   "metadata": {},
   "source": [
    "## Calling the function with the desired News URL"
   ]
  },
  {
   "cell_type": "code",
   "execution_count": 13,
   "id": "f0a52c21",
   "metadata": {
    "scrolled": false
   },
   "outputs": [],
   "source": [
    "text = get_only_text(\"https://news.bitcoin.com/us-senator-defi-most-dangerous-part-of-crypto-regulators-clamp-down-before-its-too-late/\")"
   ]
  },
  {
   "cell_type": "code",
   "execution_count": 15,
   "id": "a5add04d",
   "metadata": {},
   "outputs": [
    {
     "data": {
      "text/plain": [
       "(\"US Senator Says Defi Is the Most Dangerous Part of Crypto – Urges Regulators to Clamp Down Before It's Too Late – Regulation Bitcoin News\",\n",
       " '\\nby\\nKevin Helms\\n U.S. Senator Elizabeth Warren has called on regulators to clamp down on decentralized finance (defi) and stablecoins “before it’s too late.” She said: “Defi is the most dangerous part of the crypto world … it’s where the scammers, the cheats, and the swindlers mix among the part-time investors and first-time crypto traders.” During a hearing of the Senate Banking, Housing, and Urban Affairs Committee Wednesday, U.S. Senator Elizabeth Warren (D-Mass.) called on regulators to “clamp down” on stablecoins and decentralized finance (defi) platforms “before it is too late.” She brought up stablecoins tether (USDT) and usd coin (USDC). In response to Senator Warren, Alexis Goldstein, director of financial policy at Open Markets Institute, explained that stablecoins “may not always be backed one-to-one … as the assets backing those tokens are often not real dollars.” Warren pointed out that based on Tether’s own report, “only about 10% of the assets backing its stablecoin are real dollars in the bank. 90% is something else — not real dollars.” In addition, she stressed that the report “is not actually verified by a comprehensive audited financial statement or verified by any government regulator.” While noting that “stablecoins are not always stable,” Warren described: “It’s worse than that. In troubled economic times people are most likely to cash out of risky financial products and move into real dollars. Stablecoins will take a nosedive precisely when people most need stability, and that run-on-the-bank mentality could ultimately crash our whole economy.” The senator detailed: Defi is the most dangerous part of the crypto world. This is where the regulation is effectively absent and — no surprise — it’s where the scammers, the cheats and the swindlers mix among the part-time investors and first-time cryptotraders. Shoot, in Defi someone can’t even tell if they are dealing with a terrorist. She continued: “Stablecoins provide the lifeblood of the Defi ecosystem. In Defi, people need stablecoins to trade between different coins, to trade derivatives, to lend and borrow money – all outside the regulated banking system. Without stablecoins, Defi comes to a halt.” During the hearing, Hilary Allen, professor at the American University College of Law, answered questions about whether stablecoins pose risk to the U.S. financial system. Warren asked the professor, “Does Defi threaten our financial stability? And can Defi continue to grow without stablecoins?” Allen replied: “I don’t think Defi can grow without stablecoins. I think it would struggle. Right now, I think Defi is contained to the point where it won’t impact financial stability, but if it grows, I think there’s a real threat there. Particularly if it becomes intertwined with our traditional financial system, and there is industry interest in pursuing this integration on both the traditional finance and the crypto side. So, I think it’s critical that stablecoins not be allowed to fuel that growth.” Emphasizing that “Stablecoins have no regulators, no independent auditors, no guarantors, nothing. And they are propping up one of the shadiest parts of the crypto world — the place where consumers are least protected from getting scammed,” Senator Warren concluded: This is risk to traders … to our economy. The time to act is before it all blows up … Our regulators need to get serious about clamping down on these risks before it is too late. What do you think about Senator Elizabeth Warren’s comments? Let us know in the comments section below. \\nA student of Austrian Economics, Kevin found Bitcoin in 2011 and has been an evangelist ever since. His interests lie in Bitcoin security, open-source systems, network effects and the intersection between economics and cryptography.\\n\\n\\n\\n\\n\\n Image Credits: Shutterstock, Pixabay, Wiki Commons Disclaimer: This article is for informational purposes only. It is not a direct offer or solicitation of an offer to buy or sell, or a recommendation or endorsement of any products, services, or companies. Bitcoin.com does not provide investment, tax, legal, or accounting advice. Neither the company nor the author is responsible, directly or indirectly, for any damage or loss caused or alleged to be caused by or in connection with the use of or reliance on any content, goods or services mentioned in this article. Florida Governor Ron DeSantis Proposes Creating a Cryptocurrency Payment System for State Fees The American politician and attorney serving as the 46th governor of Florida, Ron DeSantis, announced the state’s 2022-23 budget proposal last week and proposed an idea to let businesses pay state fees with crypto assets. The governor’s \"Freedom First Budget” ... read more. Novi Launches Whatsapp Integration Pilot Program for Selected Users in the U.S. Novi, the remittance and payments initiative of Meta (formerly Facebook), has launched a Whatsapp pilot test for customers in the U.S. This means that a small number of Whatsapp users will be able to send and receive payments, as well ... read more. Check all the news here')"
      ]
     },
     "execution_count": 15,
     "metadata": {},
     "output_type": "execute_result"
    }
   ],
   "source": [
    "text"
   ]
  },
  {
   "cell_type": "markdown",
   "id": "da8cd3d0",
   "metadata": {},
   "source": [
    "## Number of words original text"
   ]
  },
  {
   "cell_type": "code",
   "execution_count": 16,
   "id": "fafb95a6",
   "metadata": {},
   "outputs": [
    {
     "data": {
      "text/plain": [
       "809"
      ]
     },
     "execution_count": 16,
     "metadata": {},
     "output_type": "execute_result"
    }
   ],
   "source": [
    "len(str.split(text[1]))"
   ]
  },
  {
   "cell_type": "markdown",
   "id": "3a8decbd",
   "metadata": {},
   "source": [
    "## Summarization"
   ]
  },
  {
   "cell_type": "code",
   "execution_count": null,
   "id": "43504df1",
   "metadata": {},
   "outputs": [],
   "source": [
    "from gensim.summarization.summarizer import summarize"
   ]
  },
  {
   "cell_type": "markdown",
   "id": "ba357e2d",
   "metadata": {},
   "source": [
    "## Printing summarized text\n",
    "## Method #1 - Word Count"
   ]
  },
  {
   "cell_type": "code",
   "execution_count": 24,
   "id": "89890368",
   "metadata": {},
   "outputs": [
    {
     "name": "stdout",
     "output_type": "stream",
     "text": [
      "Title : US Senator Says Defi Is the Most Dangerous Part of Crypto – Urges Regulators to Clamp Down Before It's Too Late – Regulation Bitcoin News\n",
      "Summary: \n"
     ]
    },
    {
     "ename": "AttributeError",
     "evalue": "module 'gensim' has no attribute 'summarize'",
     "output_type": "error",
     "traceback": [
      "\u001b[1;31m---------------------------------------------------------------------------\u001b[0m",
      "\u001b[1;31mAttributeError\u001b[0m                            Traceback (most recent call last)",
      "\u001b[1;32m~\\AppData\\Local\\Temp/ipykernel_5308/4091846204.py\u001b[0m in \u001b[0;36m<module>\u001b[1;34m\u001b[0m\n\u001b[0;32m      1\u001b[0m \u001b[0mprint\u001b[0m\u001b[1;33m(\u001b[0m\u001b[1;34m\"Title : \"\u001b[0m \u001b[1;33m+\u001b[0m \u001b[0mtext\u001b[0m\u001b[1;33m[\u001b[0m\u001b[1;36m0\u001b[0m\u001b[1;33m]\u001b[0m\u001b[1;33m)\u001b[0m\u001b[1;33m\u001b[0m\u001b[1;33m\u001b[0m\u001b[0m\n\u001b[0;32m      2\u001b[0m \u001b[0mprint\u001b[0m\u001b[1;33m(\u001b[0m\u001b[1;34m\"Summary: \"\u001b[0m\u001b[1;33m)\u001b[0m\u001b[1;33m\u001b[0m\u001b[1;33m\u001b[0m\u001b[0m\n\u001b[1;32m----> 3\u001b[1;33m \u001b[0mprint\u001b[0m\u001b[1;33m(\u001b[0m\u001b[0mgensim\u001b[0m\u001b[1;33m.\u001b[0m\u001b[0msummarize\u001b[0m\u001b[1;33m(\u001b[0m\u001b[0mrepr\u001b[0m\u001b[1;33m(\u001b[0m\u001b[0mtext\u001b[0m\u001b[1;33m[\u001b[0m\u001b[1;36m1\u001b[0m\u001b[1;33m]\u001b[0m\u001b[1;33m)\u001b[0m\u001b[1;33m,\u001b[0m \u001b[0mword_count_\u001b[0m\u001b[1;33m=\u001b[0m\u001b[1;36m100\u001b[0m\u001b[1;33m)\u001b[0m\u001b[1;33m)\u001b[0m\u001b[1;33m\u001b[0m\u001b[1;33m\u001b[0m\u001b[0m\n\u001b[0m",
      "\u001b[1;31mAttributeError\u001b[0m: module 'gensim' has no attribute 'summarize'"
     ]
    }
   ],
   "source": [
    "print(\"Title : \" + text[0])\n",
    "print(\"Summary: \")\n",
    "print(gensim.summarize(repr(text[1]), word_count_=100))"
   ]
  }
 ],
 "metadata": {
  "kernelspec": {
   "display_name": "Python 3 (ipykernel)",
   "language": "python",
   "name": "python3"
  },
  "language_info": {
   "codemirror_mode": {
    "name": "ipython",
    "version": 3
   },
   "file_extension": ".py",
   "mimetype": "text/x-python",
   "name": "python",
   "nbconvert_exporter": "python",
   "pygments_lexer": "ipython3",
   "version": "3.10.1"
  }
 },
 "nbformat": 4,
 "nbformat_minor": 5
}
